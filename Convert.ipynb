{
 "cells": [
  {
   "cell_type": "markdown",
   "id": "4d00e355",
   "metadata": {},
   "source": [
    "### Importing headers"
   ]
  },
  {
   "cell_type": "code",
   "execution_count": 4,
   "id": "1dfc8ecd",
   "metadata": {},
   "outputs": [
    {
     "name": "stdout",
     "output_type": "stream",
     "text": [
      "Collecting textblob\n",
      "  Downloading textblob-0.17.1-py2.py3-none-any.whl (636 kB)\n",
      "                                              0.0/636.8 kB ? eta -:--:--\n",
      "     -------------                          225.3/636.8 kB 6.7 MB/s eta 0:00:01\n",
      "     --------------------------             440.3/636.8 kB 5.4 MB/s eta 0:00:01\n",
      "     -------------------------------------- 636.8/636.8 kB 4.4 MB/s eta 0:00:00\n",
      "Collecting nltk>=3.1 (from textblob)\n",
      "  Using cached nltk-3.8.1-py3-none-any.whl (1.5 MB)\n",
      "Collecting click (from nltk>=3.1->textblob)\n",
      "  Downloading click-8.1.5-py3-none-any.whl (98 kB)\n",
      "                                              0.0/98.1 kB ? eta -:--:--\n",
      "     ---------------------------------------- 98.1/98.1 kB 5.5 MB/s eta 0:00:00\n",
      "Collecting joblib (from nltk>=3.1->textblob)\n",
      "  Using cached joblib-1.3.1-py3-none-any.whl (301 kB)\n",
      "Collecting regex>=2021.8.3 (from nltk>=3.1->textblob)\n",
      "  Downloading regex-2023.6.3-cp39-cp39-win_amd64.whl (268 kB)\n",
      "                                              0.0/268.1 kB ? eta -:--:--\n",
      "     ---------------------------------      235.5/268.1 kB 7.0 MB/s eta 0:00:01\n",
      "     -------------------------------------- 268.1/268.1 kB 5.5 MB/s eta 0:00:00\n",
      "Collecting tqdm (from nltk>=3.1->textblob)\n",
      "  Using cached tqdm-4.65.0-py3-none-any.whl (77 kB)\n",
      "Requirement already satisfied: colorama in c:\\users\\purib\\anaconda3\\envs\\convert\\lib\\site-packages (from click->nltk>=3.1->textblob) (0.4.6)\n",
      "Installing collected packages: tqdm, regex, joblib, click, nltk, textblob\n",
      "Successfully installed click-8.1.5 joblib-1.3.1 nltk-3.8.1 regex-2023.6.3 textblob-0.17.1 tqdm-4.65.0\n",
      "Note: you may need to restart the kernel to use updated packages.\n"
     ]
    }
   ],
   "source": [
    "pip install textblob"
   ]
  },
  {
   "cell_type": "code",
   "execution_count": 5,
   "id": "e4262d01",
   "metadata": {},
   "outputs": [],
   "source": [
    "import os\n",
    "import csv\n",
    "from textblob import TextBlob"
   ]
  },
  {
   "cell_type": "markdown",
   "id": "0e3a8a24",
   "metadata": {},
   "source": [
    "### Function that take the text file and convert to csv"
   ]
  },
  {
   "cell_type": "code",
   "execution_count": 17,
   "id": "b2387f7d",
   "metadata": {},
   "outputs": [],
   "source": [
    "def perform_sentiment_analysis(text):\n",
    "    blob = TextBlob(text)\n",
    "    sentiment = blob.sentiment.polarity\n",
    "    return sentiment"
   ]
  },
  {
   "cell_type": "code",
   "execution_count": 75,
   "id": "a9a1a986",
   "metadata": {},
   "outputs": [],
   "source": [
    "def convert_text_files_to_csv(folder_path, output_file):\n",
    "    files = [f for f in os.listdir(folder_path) if f.endswith('.txt')]\n",
    "    print(len(files))\n",
    "    with open(output_file, 'a+', newline='') as csvfile:\n",
    "        writer = csv.writer(csvfile)\n",
    "        writer.writerow(['Content', 'Sentiment'])\n",
    "        for file in files:\n",
    "            file_path = os.path.join(folder_path, file)\n",
    "            with open(file_path, 'r', errors='ignore') as txtfile:\n",
    "                text = txtfile.read()\n",
    "                sentiment = perform_sentiment_analysis(text)\n",
    "                writer.writerow([text, sentiment])\n",
    "\n",
    "    print(\"Conversion complete!\")"
   ]
  },
  {
   "cell_type": "code",
   "execution_count": 76,
   "id": "4acc08df",
   "metadata": {},
   "outputs": [],
   "source": [
    "folder_path = \"C:\\\\Users\\\\purib\\\\Documents\\\\Projects\\\\Convert text to csv\\\\Movies Data\\\\train\\\\pos\""
   ]
  },
  {
   "cell_type": "code",
   "execution_count": 83,
   "id": "97b1dfea",
   "metadata": {},
   "outputs": [],
   "source": [
    "output_file = 'imbdTrainRatings.csv'"
   ]
  },
  {
   "cell_type": "code",
   "execution_count": 84,
   "id": "937e7bed",
   "metadata": {},
   "outputs": [
    {
     "name": "stdout",
     "output_type": "stream",
     "text": [
      "12500\n",
      "Conversion complete!\n"
     ]
    }
   ],
   "source": [
    "convert_text_files_to_csv(folder_path, output_file)"
   ]
  },
  {
   "cell_type": "code",
   "execution_count": 85,
   "id": "d2b68134",
   "metadata": {},
   "outputs": [],
   "source": [
    "neg_folder_path = \"C:\\\\Users\\\\purib\\\\Documents\\\\Projects\\\\Convert text to csv\\\\Movies Data\\\\train\\\\neg\""
   ]
  },
  {
   "cell_type": "code",
   "execution_count": 86,
   "id": "5e0eed59",
   "metadata": {},
   "outputs": [
    {
     "name": "stdout",
     "output_type": "stream",
     "text": [
      "12500\n",
      "Conversion complete!\n"
     ]
    }
   ],
   "source": [
    "convert_text_files_to_csv(neg_folder_path, output_file)"
   ]
  },
  {
   "cell_type": "code",
   "execution_count": 87,
   "id": "8b0069ba",
   "metadata": {},
   "outputs": [],
   "source": [
    "unsup_folder_path = \"C:\\\\Users\\\\purib\\\\Documents\\\\Projects\\\\Convert text to csv\\\\Movies Data\\\\train\\\\unsup\""
   ]
  },
  {
   "cell_type": "code",
   "execution_count": 88,
   "id": "e1d35a67",
   "metadata": {},
   "outputs": [
    {
     "name": "stdout",
     "output_type": "stream",
     "text": [
      "50000\n",
      "Conversion complete!\n"
     ]
    }
   ],
   "source": [
    "convert_text_files_to_csv(unsup_folder_path, output_file)"
   ]
  },
  {
   "cell_type": "code",
   "execution_count": null,
   "id": "268b162c",
   "metadata": {},
   "outputs": [],
   "source": []
  }
 ],
 "metadata": {
  "kernelspec": {
   "display_name": "convert",
   "language": "python",
   "name": "convert"
  },
  "language_info": {
   "codemirror_mode": {
    "name": "ipython",
    "version": 3
   },
   "file_extension": ".py",
   "mimetype": "text/x-python",
   "name": "python",
   "nbconvert_exporter": "python",
   "pygments_lexer": "ipython3",
   "version": "3.9.17"
  }
 },
 "nbformat": 4,
 "nbformat_minor": 5
}
