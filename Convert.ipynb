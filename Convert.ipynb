{
 "cells": [
  {
   "cell_type": "markdown",
   "id": "4d00e355",
   "metadata": {},
   "source": [
    "### Importing headers"
   ]
  },
  {
   "cell_type": "code",
   "execution_count": 4,
   "id": "1dfc8ecd",
   "metadata": {},
   "outputs": [
    {
     "name": "stdout",
     "output_type": "stream",
     "text": [
      "Collecting textblob\n",
      "  Downloading textblob-0.17.1-py2.py3-none-any.whl (636 kB)\n",
      "                                              0.0/636.8 kB ? eta -:--:--\n",
      "     -------------                          225.3/636.8 kB 6.7 MB/s eta 0:00:01\n",
      "     --------------------------             440.3/636.8 kB 5.4 MB/s eta 0:00:01\n",
      "     -------------------------------------- 636.8/636.8 kB 4.4 MB/s eta 0:00:00\n",
      "Collecting nltk>=3.1 (from textblob)\n",
      "  Using cached nltk-3.8.1-py3-none-any.whl (1.5 MB)\n",
      "Collecting click (from nltk>=3.1->textblob)\n",
      "  Downloading click-8.1.5-py3-none-any.whl (98 kB)\n",
      "                                              0.0/98.1 kB ? eta -:--:--\n",
      "     ---------------------------------------- 98.1/98.1 kB 5.5 MB/s eta 0:00:00\n",
      "Collecting joblib (from nltk>=3.1->textblob)\n",
      "  Using cached joblib-1.3.1-py3-none-any.whl (301 kB)\n",
      "Collecting regex>=2021.8.3 (from nltk>=3.1->textblob)\n",
      "  Downloading regex-2023.6.3-cp39-cp39-win_amd64.whl (268 kB)\n",
      "                                              0.0/268.1 kB ? eta -:--:--\n",
      "     ---------------------------------      235.5/268.1 kB 7.0 MB/s eta 0:00:01\n",
      "     -------------------------------------- 268.1/268.1 kB 5.5 MB/s eta 0:00:00\n",
      "Collecting tqdm (from nltk>=3.1->textblob)\n",
      "  Using cached tqdm-4.65.0-py3-none-any.whl (77 kB)\n",
      "Requirement already satisfied: colorama in c:\\users\\purib\\anaconda3\\envs\\convert\\lib\\site-packages (from click->nltk>=3.1->textblob) (0.4.6)\n",
      "Installing collected packages: tqdm, regex, joblib, click, nltk, textblob\n",
      "Successfully installed click-8.1.5 joblib-1.3.1 nltk-3.8.1 regex-2023.6.3 textblob-0.17.1 tqdm-4.65.0\n",
      "Note: you may need to restart the kernel to use updated packages.\n"
     ]
    }
   ],
   "source": [
    "pip install textblob"
   ]
  },
  {
   "cell_type": "code",
   "execution_count": 1,
   "id": "e4262d01",
   "metadata": {},
   "outputs": [],
   "source": [
    "import os\n",
    "import csv\n",
    "from textblob import TextBlob"
   ]
  },
  {
   "cell_type": "markdown",
   "id": "0e3a8a24",
   "metadata": {},
   "source": [
    "### Function that take the text file and convert to csv"
   ]
  },
  {
   "cell_type": "code",
   "execution_count": 2,
   "id": "b2387f7d",
   "metadata": {},
   "outputs": [],
   "source": [
    "def perform_sentiment_analysis(text):\n",
    "    blob = TextBlob(text)\n",
    "    sentiment = blob.sentiment.polarity\n",
    "    return sentiment"
   ]
  },
  {
   "cell_type": "code",
   "execution_count": 15,
   "id": "a9a1a986",
   "metadata": {},
   "outputs": [],
   "source": [
    "def convert_text_files_to_csv(folder_path, output_file):\n",
    "    files = [f for f in os.listdir(folder_path) if f.endswith('.txt')]\n",
    "    print(len(files))\n",
    "    with open(output_file, 'a+', newline='') as csvfile:\n",
    "        writer = csv.writer(csvfile)\n",
    "        writer.writerow(['Content', 'Sentiment'])\n",
    "        for file in files:\n",
    "            file_path = os.path.join(folder_path, file)\n",
    "            with open(file_path, 'r', errors=\"ignore\") as txtfile:\n",
    "                text = txtfile.read()\n",
    "                folder_name = os.path.basename(folder_path)\n",
    "                last_folder = os.path.split(folder_name)[-1]\n",
    "                if(last_folder == \"neg\"):\n",
    "                    sentiment = \"Negative\"\n",
    "                else:\n",
    "                    sentiment = \"Positive\"\n",
    "                writer.writerow([text, sentiment])\n",
    "\n",
    "    print(\"Conversion complete!\")"
   ]
  },
  {
   "cell_type": "code",
   "execution_count": 23,
   "id": "4acc08df",
   "metadata": {},
   "outputs": [
    {
     "name": "stdout",
     "output_type": "stream",
     "text": [
      "neg\n",
      "neg\n"
     ]
    }
   ],
   "source": [
    "folder_path = \"C:\\\\Users\\\\purib\\\\Documents\\\\Projects\\\\Convert text to csv\\\\Movies Data\\\\test\\\\neg\"\n",
    "folder_name = os.path.basename(folder_path)\n",
    "last_folder = os.path.split(folder_name)[-1]\n",
    "print(folder_name)\n",
    "print(last_folder)"
   ]
  },
  {
   "cell_type": "code",
   "execution_count": 24,
   "id": "97b1dfea",
   "metadata": {},
   "outputs": [],
   "source": [
    "output_file = 'imbdTestRatings.csv'"
   ]
  },
  {
   "cell_type": "code",
   "execution_count": 25,
   "id": "937e7bed",
   "metadata": {},
   "outputs": [
    {
     "name": "stdout",
     "output_type": "stream",
     "text": [
      "12500\n",
      "Conversion complete!\n"
     ]
    }
   ],
   "source": [
    "convert_text_files_to_csv(folder_path, output_file)"
   ]
  },
  {
   "cell_type": "code",
   "execution_count": 26,
   "id": "d2b68134",
   "metadata": {},
   "outputs": [],
   "source": [
    "pos_folder_path = \"C:\\\\Users\\\\purib\\\\Documents\\\\Projects\\\\Convert text to csv\\\\Movies Data\\\\test\\\\pos\""
   ]
  },
  {
   "cell_type": "code",
   "execution_count": 27,
   "id": "5e0eed59",
   "metadata": {},
   "outputs": [
    {
     "name": "stdout",
     "output_type": "stream",
     "text": [
      "12500\n",
      "Conversion complete!\n"
     ]
    }
   ],
   "source": [
    "convert_text_files_to_csv(pos_folder_path, output_file)"
   ]
  },
  {
   "cell_type": "code",
   "execution_count": 4,
   "id": "268b162c",
   "metadata": {},
   "outputs": [
    {
     "name": "stdout",
     "output_type": "stream",
     "text": [
      "Collecting pandas\n",
      "  Using cached pandas-2.0.3-cp39-cp39-win_amd64.whl (10.8 MB)\n",
      "Requirement already satisfied: python-dateutil>=2.8.2 in c:\\users\\purib\\anaconda3\\envs\\convert\\lib\\site-packages (from pandas) (2.8.2)\n",
      "Requirement already satisfied: pytz>=2020.1 in c:\\users\\purib\\anaconda3\\envs\\convert\\lib\\site-packages (from pandas) (2022.7)\n",
      "Collecting tzdata>=2022.1 (from pandas)\n",
      "  Using cached tzdata-2023.3-py2.py3-none-any.whl (341 kB)\n",
      "Collecting numpy>=1.20.3 (from pandas)\n",
      "  Downloading numpy-1.25.1-cp39-cp39-win_amd64.whl (15.1 MB)\n",
      "                                              0.0/15.1 MB ? eta -:--:--\n",
      "                                              0.2/15.1 MB 5.0 MB/s eta 0:00:04\n",
      "                                              0.3/15.1 MB 3.8 MB/s eta 0:00:04\n",
      "     -                                        0.5/15.1 MB 3.9 MB/s eta 0:00:04\n",
      "     -                                        0.7/15.1 MB 3.7 MB/s eta 0:00:04\n",
      "     --                                       0.8/15.1 MB 3.8 MB/s eta 0:00:04\n",
      "     --                                       1.0/15.1 MB 3.7 MB/s eta 0:00:04\n",
      "     ---                                      1.1/15.1 MB 3.6 MB/s eta 0:00:04\n",
      "     ---                                      1.3/15.1 MB 3.6 MB/s eta 0:00:04\n",
      "     ---                                      1.5/15.1 MB 3.6 MB/s eta 0:00:04\n",
      "     ----                                     1.6/15.1 MB 3.6 MB/s eta 0:00:04\n",
      "     ----                                     1.8/15.1 MB 3.6 MB/s eta 0:00:04\n",
      "     -----                                    2.0/15.1 MB 3.7 MB/s eta 0:00:04\n",
      "     -----                                    2.2/15.1 MB 3.7 MB/s eta 0:00:04\n",
      "     ------                                   2.4/15.1 MB 3.7 MB/s eta 0:00:04\n",
      "     ------                                   2.6/15.1 MB 3.7 MB/s eta 0:00:04\n",
      "     -------                                  2.7/15.1 MB 3.7 MB/s eta 0:00:04\n",
      "     -------                                  2.9/15.1 MB 3.7 MB/s eta 0:00:04\n",
      "     --------                                 3.0/15.1 MB 3.7 MB/s eta 0:00:04\n",
      "     --------                                 3.2/15.1 MB 3.6 MB/s eta 0:00:04\n",
      "     --------                                 3.3/15.1 MB 3.6 MB/s eta 0:00:04\n",
      "     ---------                                3.5/15.1 MB 3.6 MB/s eta 0:00:04\n",
      "     ---------                                3.7/15.1 MB 3.6 MB/s eta 0:00:04\n",
      "     ----------                               3.8/15.1 MB 3.6 MB/s eta 0:00:04\n",
      "     ----------                               4.0/15.1 MB 3.6 MB/s eta 0:00:04\n",
      "     -----------                              4.2/15.1 MB 3.6 MB/s eta 0:00:03\n",
      "     -----------                              4.3/15.1 MB 3.6 MB/s eta 0:00:03\n",
      "     -----------                              4.5/15.1 MB 3.6 MB/s eta 0:00:03\n",
      "     ------------                             4.6/15.1 MB 3.6 MB/s eta 0:00:03\n",
      "     ------------                             4.8/15.1 MB 3.6 MB/s eta 0:00:03\n",
      "     -------------                            4.9/15.1 MB 3.5 MB/s eta 0:00:03\n",
      "     -------------                            5.1/15.1 MB 3.6 MB/s eta 0:00:03\n",
      "     -------------                            5.2/15.1 MB 3.5 MB/s eta 0:00:03\n",
      "     --------------                           5.4/15.1 MB 3.5 MB/s eta 0:00:03\n",
      "     --------------                           5.5/15.1 MB 3.5 MB/s eta 0:00:03\n",
      "     ---------------                          5.7/15.1 MB 3.5 MB/s eta 0:00:03\n",
      "     ---------------                          5.8/15.1 MB 3.5 MB/s eta 0:00:03\n",
      "     ---------------                          5.9/15.1 MB 3.4 MB/s eta 0:00:03\n",
      "     ----------------                         6.1/15.1 MB 3.5 MB/s eta 0:00:03\n",
      "     ----------------                         6.2/15.1 MB 3.4 MB/s eta 0:00:03\n",
      "     ----------------                         6.4/15.1 MB 3.4 MB/s eta 0:00:03\n",
      "     -----------------                        6.5/15.1 MB 3.4 MB/s eta 0:00:03\n",
      "     -----------------                        6.6/15.1 MB 3.4 MB/s eta 0:00:03\n",
      "     -----------------                        6.7/15.1 MB 3.4 MB/s eta 0:00:03\n",
      "     ------------------                       6.9/15.1 MB 3.4 MB/s eta 0:00:03\n",
      "     ------------------                       7.0/15.1 MB 3.4 MB/s eta 0:00:03\n",
      "     -------------------                      7.2/15.1 MB 3.3 MB/s eta 0:00:03\n",
      "     -------------------                      7.3/15.1 MB 3.3 MB/s eta 0:00:03\n",
      "     -------------------                      7.4/15.1 MB 3.3 MB/s eta 0:00:03\n",
      "     --------------------                     7.5/15.1 MB 3.3 MB/s eta 0:00:03\n",
      "     --------------------                     7.7/15.1 MB 3.3 MB/s eta 0:00:03\n",
      "     --------------------                     7.8/15.1 MB 3.3 MB/s eta 0:00:03\n",
      "     ---------------------                    7.9/15.1 MB 3.3 MB/s eta 0:00:03\n",
      "     ---------------------                    8.0/15.1 MB 3.3 MB/s eta 0:00:03\n",
      "     ---------------------                    8.2/15.1 MB 3.3 MB/s eta 0:00:03\n",
      "     ----------------------                   8.4/15.1 MB 3.3 MB/s eta 0:00:03\n",
      "     ----------------------                   8.5/15.1 MB 3.3 MB/s eta 0:00:02\n",
      "     -----------------------                  8.7/15.1 MB 3.3 MB/s eta 0:00:02\n",
      "     -----------------------                  8.9/15.1 MB 3.3 MB/s eta 0:00:02\n",
      "     ------------------------                 9.0/15.1 MB 3.3 MB/s eta 0:00:02\n",
      "     ------------------------                 9.2/15.1 MB 3.3 MB/s eta 0:00:02\n",
      "     ------------------------                 9.4/15.1 MB 3.3 MB/s eta 0:00:02\n",
      "     -------------------------                9.5/15.1 MB 3.3 MB/s eta 0:00:02\n",
      "     -------------------------                9.6/15.1 MB 3.3 MB/s eta 0:00:02\n",
      "     --------------------------               9.8/15.1 MB 3.3 MB/s eta 0:00:02\n",
      "     --------------------------               10.0/15.1 MB 3.3 MB/s eta 0:00:02\n",
      "     --------------------------               10.1/15.1 MB 3.3 MB/s eta 0:00:02\n",
      "     ---------------------------              10.3/15.1 MB 3.3 MB/s eta 0:00:02\n",
      "     ---------------------------              10.4/15.1 MB 3.3 MB/s eta 0:00:02\n",
      "     ----------------------------             10.6/15.1 MB 3.3 MB/s eta 0:00:02\n",
      "     ----------------------------             10.7/15.1 MB 3.3 MB/s eta 0:00:02\n",
      "     ----------------------------             10.8/15.1 MB 3.3 MB/s eta 0:00:02\n",
      "     -----------------------------            10.9/15.1 MB 3.2 MB/s eta 0:00:02\n",
      "     -----------------------------            11.1/15.1 MB 3.2 MB/s eta 0:00:02\n",
      "     -----------------------------            11.2/15.1 MB 3.2 MB/s eta 0:00:02\n",
      "     ------------------------------           11.4/15.1 MB 3.2 MB/s eta 0:00:02\n",
      "     ------------------------------           11.5/15.1 MB 3.2 MB/s eta 0:00:02\n",
      "     -------------------------------          11.7/15.1 MB 3.2 MB/s eta 0:00:02\n",
      "     -------------------------------          11.8/15.1 MB 3.2 MB/s eta 0:00:02\n",
      "     -------------------------------          12.0/15.1 MB 3.2 MB/s eta 0:00:01\n",
      "     --------------------------------         12.1/15.1 MB 3.2 MB/s eta 0:00:01\n",
      "     --------------------------------         12.3/15.1 MB 3.2 MB/s eta 0:00:01\n",
      "     --------------------------------         12.4/15.1 MB 3.2 MB/s eta 0:00:01\n",
      "     ---------------------------------        12.6/15.1 MB 3.2 MB/s eta 0:00:01\n",
      "     ---------------------------------        12.8/15.1 MB 3.2 MB/s eta 0:00:01\n",
      "     ----------------------------------       12.9/15.1 MB 3.2 MB/s eta 0:00:01\n",
      "     ----------------------------------       13.1/15.1 MB 3.2 MB/s eta 0:00:01\n",
      "     -----------------------------------      13.2/15.1 MB 3.2 MB/s eta 0:00:01\n",
      "     -----------------------------------      13.4/15.1 MB 3.2 MB/s eta 0:00:01\n",
      "     -----------------------------------      13.5/15.1 MB 3.2 MB/s eta 0:00:01\n",
      "     ------------------------------------     13.7/15.1 MB 3.2 MB/s eta 0:00:01\n",
      "     ------------------------------------     13.8/15.1 MB 3.1 MB/s eta 0:00:01\n",
      "     -------------------------------------    14.0/15.1 MB 3.1 MB/s eta 0:00:01\n",
      "     -------------------------------------    14.1/15.1 MB 3.1 MB/s eta 0:00:01\n",
      "     -------------------------------------    14.3/15.1 MB 3.1 MB/s eta 0:00:01\n",
      "     --------------------------------------   14.4/15.1 MB 3.1 MB/s eta 0:00:01\n",
      "     --------------------------------------   14.5/15.1 MB 3.1 MB/s eta 0:00:01\n",
      "     --------------------------------------   14.7/15.1 MB 3.1 MB/s eta 0:00:01\n",
      "     ---------------------------------------  14.8/15.1 MB 3.1 MB/s eta 0:00:01\n",
      "     ---------------------------------------  15.0/15.1 MB 3.1 MB/s eta 0:00:01\n",
      "     ---------------------------------------  15.1/15.1 MB 3.1 MB/s eta 0:00:01\n",
      "     ---------------------------------------- 15.1/15.1 MB 3.1 MB/s eta 0:00:00\n",
      "Requirement already satisfied: six>=1.5 in c:\\users\\purib\\anaconda3\\envs\\convert\\lib\\site-packages (from python-dateutil>=2.8.2->pandas) (1.16.0)\n",
      "Installing collected packages: tzdata, numpy, pandas\n",
      "Successfully installed numpy-1.25.1 pandas-2.0.3 tzdata-2023.3\n",
      "Note: you may need to restart the kernel to use updated packages.\n"
     ]
    }
   ],
   "source": [
    "pip install pandas"
   ]
  },
  {
   "cell_type": "code",
   "execution_count": 5,
   "id": "254c2f6a",
   "metadata": {},
   "outputs": [],
   "source": [
    "import pandas as pd"
   ]
  },
  {
   "cell_type": "code",
   "execution_count": 6,
   "id": "38aa3eb5",
   "metadata": {},
   "outputs": [
    {
     "data": {
      "text/plain": [
       "'C:\\\\Users\\\\purib\\\\Documents\\\\Projects\\\\Convert text to csv'"
      ]
     },
     "execution_count": 6,
     "metadata": {},
     "output_type": "execute_result"
    }
   ],
   "source": [
    "pwd"
   ]
  },
  {
   "cell_type": "code",
   "execution_count": 11,
   "id": "2f20f167",
   "metadata": {},
   "outputs": [],
   "source": [
    "df=pd.read_csv(\"imbdTestRatings.csv\",encoding=\"latin-1\")"
   ]
  },
  {
   "cell_type": "code",
   "execution_count": 12,
   "id": "40c75160",
   "metadata": {},
   "outputs": [
    {
     "data": {
      "text/html": [
       "<div>\n",
       "<style scoped>\n",
       "    .dataframe tbody tr th:only-of-type {\n",
       "        vertical-align: middle;\n",
       "    }\n",
       "\n",
       "    .dataframe tbody tr th {\n",
       "        vertical-align: top;\n",
       "    }\n",
       "\n",
       "    .dataframe thead th {\n",
       "        text-align: right;\n",
       "    }\n",
       "</style>\n",
       "<table border=\"1\" class=\"dataframe\">\n",
       "  <thead>\n",
       "    <tr style=\"text-align: right;\">\n",
       "      <th></th>\n",
       "      <th>Content</th>\n",
       "      <th>Sentiment</th>\n",
       "    </tr>\n",
       "  </thead>\n",
       "  <tbody>\n",
       "    <tr>\n",
       "      <th>0</th>\n",
       "      <td>Once again Mr. Costner has dragged out a movie...</td>\n",
       "      <td>0.063859649</td>\n",
       "    </tr>\n",
       "    <tr>\n",
       "      <th>1</th>\n",
       "      <td>This is an example of why the majority of acti...</td>\n",
       "      <td>0.042554113</td>\n",
       "    </tr>\n",
       "    <tr>\n",
       "      <th>2</th>\n",
       "      <td>First of all I hate those moronic rappers, who...</td>\n",
       "      <td>0.000569358</td>\n",
       "    </tr>\n",
       "    <tr>\n",
       "      <th>3</th>\n",
       "      <td>Not even the Beatles could write songs everyon...</td>\n",
       "      <td>0.052205882</td>\n",
       "    </tr>\n",
       "    <tr>\n",
       "      <th>4</th>\n",
       "      <td>Brass pictures (movies is not a fitting word f...</td>\n",
       "      <td>0.086952381</td>\n",
       "    </tr>\n",
       "  </tbody>\n",
       "</table>\n",
       "</div>"
      ],
      "text/plain": [
       "                                             Content    Sentiment\n",
       "0  Once again Mr. Costner has dragged out a movie...  0.063859649\n",
       "1  This is an example of why the majority of acti...  0.042554113\n",
       "2  First of all I hate those moronic rappers, who...  0.000569358\n",
       "3  Not even the Beatles could write songs everyon...  0.052205882\n",
       "4  Brass pictures (movies is not a fitting word f...  0.086952381"
      ]
     },
     "execution_count": 12,
     "metadata": {},
     "output_type": "execute_result"
    }
   ],
   "source": [
    "df.head()"
   ]
  },
  {
   "cell_type": "code",
   "execution_count": 15,
   "id": "4b6763f8",
   "metadata": {},
   "outputs": [],
   "source": [
    "x=df.Content.values"
   ]
  },
  {
   "cell_type": "code",
   "execution_count": 16,
   "id": "26be4422",
   "metadata": {},
   "outputs": [],
   "source": [
    "y=df.Sentiment.values"
   ]
  },
  {
   "cell_type": "code",
   "execution_count": 21,
   "id": "0ac61ecd",
   "metadata": {},
   "outputs": [],
   "source": [
    "import pathlib"
   ]
  },
  {
   "cell_type": "code",
   "execution_count": 25,
   "id": "c517f90a",
   "metadata": {},
   "outputs": [],
   "source": [
    "a= pathlib.Path(\"C:\\\\Users\\\\purib\\\\Documents\\\\Projects\\\\Convert text to csv\\\\Movies Data\\\\test\\\\neg\")"
   ]
  }
 ],
 "metadata": {
  "kernelspec": {
   "display_name": "convert",
   "language": "python",
   "name": "convert"
  },
  "language_info": {
   "codemirror_mode": {
    "name": "ipython",
    "version": 3
   },
   "file_extension": ".py",
   "mimetype": "text/x-python",
   "name": "python",
   "nbconvert_exporter": "python",
   "pygments_lexer": "ipython3",
   "version": "3.9.17"
  }
 },
 "nbformat": 4,
 "nbformat_minor": 5
}
